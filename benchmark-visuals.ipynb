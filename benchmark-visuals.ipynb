{
 "cells": [
  {
   "cell_type": "code",
   "execution_count": 13,
   "metadata": {},
   "outputs": [],
   "source": [
    "import numpy as np\n",
    "import pandas as pd\n",
    "import matplotlib.pyplot as plt\n",
    "import seaborn as sns\n",
    "import rho_plus as rp\n",
    "\n",
    "IS_DARK = True\n",
    "theme, cs = rp.mpl_setup(IS_DARK)"
   ]
  },
  {
   "cell_type": "code",
   "execution_count": 14,
   "metadata": {},
   "outputs": [
    {
     "data": {
      "text/html": [
       "<div>\n",
       "<style scoped>\n",
       "    .dataframe tbody tr th:only-of-type {\n",
       "        vertical-align: middle;\n",
       "    }\n",
       "\n",
       "    .dataframe tbody tr th {\n",
       "        vertical-align: top;\n",
       "    }\n",
       "\n",
       "    .dataframe thead th {\n",
       "        text-align: right;\n",
       "    }\n",
       "</style>\n",
       "<table border=\"1\" class=\"dataframe\">\n",
       "  <thead>\n",
       "    <tr style=\"text-align: right;\">\n",
       "      <th></th>\n",
       "      <th>algorithm</th>\n",
       "      <th>size</th>\n",
       "      <th>time</th>\n",
       "      <th>speed</th>\n",
       "    </tr>\n",
       "  </thead>\n",
       "  <tbody>\n",
       "    <tr>\n",
       "      <th>0</th>\n",
       "      <td>Dynamic Programming</td>\n",
       "      <td>5</td>\n",
       "      <td>0.000050</td>\n",
       "      <td>99330.664140</td>\n",
       "    </tr>\n",
       "    <tr>\n",
       "      <th>1</th>\n",
       "      <td>Hu-Shing</td>\n",
       "      <td>5</td>\n",
       "      <td>0.000426</td>\n",
       "      <td>11723.498581</td>\n",
       "    </tr>\n",
       "    <tr>\n",
       "      <th>2</th>\n",
       "      <td>Dynamic Programming</td>\n",
       "      <td>5</td>\n",
       "      <td>0.000028</td>\n",
       "      <td>178758.044112</td>\n",
       "    </tr>\n",
       "    <tr>\n",
       "      <th>3</th>\n",
       "      <td>Hu-Shing</td>\n",
       "      <td>5</td>\n",
       "      <td>0.000283</td>\n",
       "      <td>17673.417006</td>\n",
       "    </tr>\n",
       "    <tr>\n",
       "      <th>4</th>\n",
       "      <td>Dynamic Programming</td>\n",
       "      <td>5</td>\n",
       "      <td>0.000024</td>\n",
       "      <td>208587.382068</td>\n",
       "    </tr>\n",
       "    <tr>\n",
       "      <th>...</th>\n",
       "      <td>...</td>\n",
       "      <td>...</td>\n",
       "      <td>...</td>\n",
       "      <td>...</td>\n",
       "    </tr>\n",
       "    <tr>\n",
       "      <th>415</th>\n",
       "      <td>Hu-Shing</td>\n",
       "      <td>100000</td>\n",
       "      <td>4.759369</td>\n",
       "      <td>21011.187812</td>\n",
       "    </tr>\n",
       "    <tr>\n",
       "      <th>416</th>\n",
       "      <td>Hu-Shing</td>\n",
       "      <td>100000</td>\n",
       "      <td>4.883784</td>\n",
       "      <td>20475.927912</td>\n",
       "    </tr>\n",
       "    <tr>\n",
       "      <th>417</th>\n",
       "      <td>Hu-Shing</td>\n",
       "      <td>100000</td>\n",
       "      <td>6.299536</td>\n",
       "      <td>15874.184942</td>\n",
       "    </tr>\n",
       "    <tr>\n",
       "      <th>418</th>\n",
       "      <td>Hu-Shing</td>\n",
       "      <td>100000</td>\n",
       "      <td>6.673465</td>\n",
       "      <td>14984.718806</td>\n",
       "    </tr>\n",
       "    <tr>\n",
       "      <th>419</th>\n",
       "      <td>Hu-Shing</td>\n",
       "      <td>100000</td>\n",
       "      <td>6.257471</td>\n",
       "      <td>15980.896415</td>\n",
       "    </tr>\n",
       "  </tbody>\n",
       "</table>\n",
       "<p>420 rows × 4 columns</p>\n",
       "</div>"
      ],
      "text/plain": [
       "               algorithm    size      time          speed\n",
       "0    Dynamic Programming       5  0.000050   99330.664140\n",
       "1               Hu-Shing       5  0.000426   11723.498581\n",
       "2    Dynamic Programming       5  0.000028  178758.044112\n",
       "3               Hu-Shing       5  0.000283   17673.417006\n",
       "4    Dynamic Programming       5  0.000024  208587.382068\n",
       "..                   ...     ...       ...            ...\n",
       "415             Hu-Shing  100000  4.759369   21011.187812\n",
       "416             Hu-Shing  100000  4.883784   20475.927912\n",
       "417             Hu-Shing  100000  6.299536   15874.184942\n",
       "418             Hu-Shing  100000  6.673465   14984.718806\n",
       "419             Hu-Shing  100000  6.257471   15980.896415\n",
       "\n",
       "[420 rows x 4 columns]"
      ]
     },
     "execution_count": 14,
     "metadata": {},
     "output_type": "execute_result"
    }
   ],
   "source": [
    "df = pd.read_csv('benchmarks.csv')\n",
    "\n",
    "df['speed'] = df['size'] / df['time']\n",
    "df"
   ]
  },
  {
   "cell_type": "code",
   "execution_count": 37,
   "metadata": {},
   "outputs": [
    {
     "data": {
      "image/png": "[encoded data removed]",
      "text/plain": [
       "<Figure size 576x432 with 1 Axes>"
      ]
     },
     "metadata": {},
     "output_type": "display_data"
    }
   ],
   "source": [
    "fig, ax = plt.subplots()\n",
    "sns.lineplot(data=df, hue='algorithm', y='speed', x='size', estimator=np.median, errorbar=None)\n",
    "\n",
    "ax.set_xscale('log')"
   ]
  },
  {
   "cell_type": "code",
   "execution_count": null,
   "metadata": {},
   "outputs": [],
   "source": []
  }
 ],
 "metadata": {
  "kernelspec": {
   "display_name": "ds",
   "language": "python",
   "name": "python3"
  },
  "language_info": {
   "codemirror_mode": {
    "name": "ipython",
    "version": 3
   },
   "file_extension": ".py",
   "mimetype": "text/x-python",
   "name": "python",
   "nbconvert_exporter": "python",
   "pygments_lexer": "ipython3",
   "version": "3.9.13"
  },
  "orig_nbformat": 4
 },
 "nbformat": 4,
 "nbformat_minor": 2
}
